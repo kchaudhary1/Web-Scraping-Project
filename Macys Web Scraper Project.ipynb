{
 "cells": [
  {
   "cell_type": "markdown",
   "metadata": {},
   "source": [
    "Macys Web Scraper Project"
   ]
  },
  {
   "cell_type": "code",
   "execution_count": null,
   "metadata": {},
   "outputs": [],
   "source": [
    "# import libraries \n",
    "\n",
    "from bs4 import BeautifulSoup\n",
    "import requests\n",
    "import time\n",
    "import datetime\n",
    "import pandas as pd\n",
    "import smtplib"
   ]
  },
  {
   "cell_type": "code",
   "execution_count": 110,
   "metadata": {},
   "outputs": [
    {
     "name": "stdout",
     "output_type": "stream",
     "text": [
      "2-Pc. Black Opium Eau de Parfum Gift Set\n"
     ]
    }
   ],
   "source": [
    "# Connect to Website and pull in data\n",
    "\n",
    "URL = 'https://www.macys.com/shop/product/yves-saint-laurent-2-pc.-black-opium-eau-de-parfum-gift-set?ID=16538782'\n",
    "\n",
    "headers = {\n",
    "    'User-Agent': 'Mozilla/5.0 (Windows NT 10.0; Win64; x64) AppleWebKit/537.36 (KHTML, like Gecko) Chrome/121.0.0.0 Safari/537.36'\n",
    "}\n",
    "page = requests.get(URL, headers=headers)\n",
    "\n",
    "soup1 = BeautifulSoup(page.content, \"html.parser\")\n",
    "\n",
    "soup2 = BeautifulSoup(soup1.prettify(), \"html.parser\")\n",
    "\n",
    "title_element = soup2.find(attrs={'class':'h3'})\n",
    "\n",
    "title = title_element.text.strip()\n",
    "\n",
    "print(title)\n"
   ]
  },
  {
   "cell_type": "code",
   "execution_count": 111,
   "metadata": {},
   "outputs": [
    {
     "name": "stdout",
     "output_type": "stream",
     "text": [
      "$99.00\n"
     ]
    }
   ],
   "source": [
    "# Scrape Price\n",
    "price_element = soup2.find(attrs={'class':'bold'})\n",
    "price = price_element.text.strip()\n",
    "print(price)"
   ]
  },
  {
   "cell_type": "code",
   "execution_count": 112,
   "metadata": {},
   "outputs": [
    {
     "name": "stdout",
     "output_type": "stream",
     "text": [
      "2024-02-13\n"
     ]
    }
   ],
   "source": [
    "# Create a Timestamp for your output to track when data was collected\n",
    "\n",
    "today = datetime.date.today()\n",
    "\n",
    "print(today)"
   ]
  },
  {
   "cell_type": "code",
   "execution_count": 113,
   "metadata": {},
   "outputs": [
    {
     "name": "stdout",
     "output_type": "stream",
     "text": [
      "Love loud this Valentine's Day with the seductively irresistible Black Opium Eau de Parfum. Opening notes of adrenaline-rich coffee and the sweet sensuality of vanilla recline into the softness of white flowers for a modern scent. This two-piece Valentine's Day gift set featuring the long-lasting fragrance for women is presented in a couture-inspired chevron gift box.\n"
     ]
    }
   ],
   "source": [
    "# scrape Product Details\n",
    "details_element = soup2.find(attrs={'class':'c-small-font c-margin-bottom-2v description'})\n",
    "details = details_element.text.strip()\n",
    "print (details)\n"
   ]
  },
  {
   "cell_type": "code",
   "execution_count": 114,
   "metadata": {},
   "outputs": [
    {
     "name": "stdout",
     "output_type": "stream",
     "text": [
      "4.6 \n",
      "                \n",
      "                 \n",
      "                \n",
      "                \n"
     ]
    }
   ],
   "source": [
    "# Scrape product rating\n",
    "rating_element = soup2.find(attrs={'class':'margin-left-xxs'})\n",
    "rating = rating_element.text.strip()\n",
    "rating = rating.replace('(', '')\n",
    "rating = rating.replace(')', '')\n",
    "rating = rating.replace('744', '')\n",
    "print(rating)"
   ]
  },
  {
   "cell_type": "code",
   "execution_count": 115,
   "metadata": {},
   "outputs": [
    {
     "name": "stdout",
     "output_type": "stream",
     "text": [
      "744\n"
     ]
    }
   ],
   "source": [
    "# Scrape review Count\n",
    "review_element = soup2.find(attrs={'class':'link-sm c-small-font'})\n",
    "total_review = review_element.text.strip()\n",
    "print(total_review)"
   ]
  },
  {
   "cell_type": "code",
   "execution_count": 116,
   "metadata": {},
   "outputs": [
    {
     "name": "stdout",
     "output_type": "stream",
     "text": [
      "positive reviews is 93%. with 744\n"
     ]
    }
   ],
   "source": [
    "# scrape Positive review\n",
    "positive_review_element = soup2.find(attrs={'class':'show-for-sr'})\n",
    "Positive_review = positive_review_element.text.strip()\n",
    "print(Positive_review)"
   ]
  },
  {
   "cell_type": "code",
   "execution_count": 117,
   "metadata": {},
   "outputs": [
    {
     "name": "stdout",
     "output_type": "stream",
     "text": [
      "https://slimages.macysassets.com/is/image/MCY/products/5/optimized/26326375_fpx.tif?op_sharpen=1&wid=60&fit=fit,1&$filtersm$\n"
     ]
    }
   ],
   "source": [
    "# Scrape product image\n",
    "image_element = soup2.find(attrs={'class':'alt-images-exposed'})\n",
    "image = image_element['src']\n",
    "print(image)\n"
   ]
  },
  {
   "cell_type": "code",
   "execution_count": 119,
   "metadata": {},
   "outputs": [],
   "source": [
    "import csv\n",
    "\n",
    "header = ['Title', 'Price', 'Date', 'Details', 'Rating', 'Total Review', 'Positive Review', 'Image']\n",
    "data = [title, price, today, details, rating, total_review, Positive_review, image ]\n",
    "\n",
    "# with open('MacyWebScraperDataset.csv', 'w', newline='', encoding='UTF8') as f:\n",
    "#     writer = csv.writer(f)\n",
    "#     writer.writerow(header)\n",
    "#     writer.writerow(data)"
   ]
  },
  {
   "cell_type": "code",
   "execution_count": 134,
   "metadata": {},
   "outputs": [
    {
     "name": "stdout",
     "output_type": "stream",
     "text": [
      "                                      Title   Price        Date  \\\n",
      "0  2-Pc. Black Opium Eau de Parfum Gift Set  $99.00  2024-02-13   \n",
      "1  2-Pc. Black Opium Eau de Parfum Gift Set  $99.00  2024-02-13   \n",
      "2  2-Pc. Black Opium Eau de Parfum Gift Set  $99.00  2024-02-13   \n",
      "3  2-Pc. Black Opium Eau de Parfum Gift Set  $99.00  2024-02-13   \n",
      "4  2-Pc. Black Opium Eau de Parfum Gift Set  $99.00  2024-02-13   \n",
      "5  2-Pc. Black Opium Eau de Parfum Gift Set  $99.00  2024-02-13   \n",
      "\n",
      "                                             Details  Rating  Total Review  \\\n",
      "0  Love loud this Valentine's Day with the seduct...     4.6           744   \n",
      "1  Love loud this Valentine's Day with the seduct...     4.6           744   \n",
      "2  Love loud this Valentine's Day with the seduct...     4.6           744   \n",
      "3  Love loud this Valentine's Day with the seduct...     4.6           744   \n",
      "4  Love loud this Valentine's Day with the seduct...     4.6           744   \n",
      "5  Love loud this Valentine's Day with the seduct...     4.6           744   \n",
      "\n",
      "                     Positive Review  \\\n",
      "0  positive reviews is 93%. with 744   \n",
      "1  positive reviews is 93%. with 744   \n",
      "2  positive reviews is 93%. with 744   \n",
      "3  positive reviews is 93%. with 744   \n",
      "4  positive reviews is 93%. with 744   \n",
      "5  positive reviews is 93%. with 744   \n",
      "\n",
      "                                               Image  \n",
      "0  https://slimages.macysassets.com/is/image/MCY/...  \n",
      "1  https://slimages.macysassets.com/is/image/MCY/...  \n",
      "2  https://slimages.macysassets.com/is/image/MCY/...  \n",
      "3  https://slimages.macysassets.com/is/image/MCY/...  \n",
      "4  https://slimages.macysassets.com/is/image/MCY/...  \n",
      "5  https://slimages.macysassets.com/is/image/MCY/...  \n"
     ]
    }
   ],
   "source": [
    "import pandas as pd\n",
    "\n",
    "df = pd.read_csv(r'C:\\Users\\krzzz\\Code\\LearnPython\\MacyWebScraperDataset.csv')\n",
    "\n",
    "print(df)"
   ]
  },
  {
   "cell_type": "code",
   "execution_count": 130,
   "metadata": {},
   "outputs": [],
   "source": [
    "#Now we are appending data to the csv\n",
    "\n",
    "with open('MacyWebScraperDataset.csv', 'a+', newline='', encoding='UTF8') as f:\n",
    "    writer = csv.writer(f)\n",
    "    writer.writerow(data)"
   ]
  },
  {
   "cell_type": "code",
   "execution_count": 132,
   "metadata": {},
   "outputs": [],
   "source": [
    "# Putting together in one function\n",
    "\n",
    "def check_price():\n",
    "    URL = 'https://www.macys.com/shop/product/yves-saint-laurent-2-pc.-black-opium-eau-de-parfum-gift-set?ID=16538782'\n",
    "\n",
    "    headers = {'User-Agent': 'Mozilla/5.0 (Windows NT 10.0; Win64; x64) AppleWebKit/537.36 (KHTML, like Gecko) Chrome/121.0.0.0 Safari/537.36'}\n",
    "    page = requests.get(URL, headers=headers)\n",
    "\n",
    "    soup1 = BeautifulSoup(page.content, \"html.parser\")\n",
    "\n",
    "    soup2 = BeautifulSoup(soup1.prettify(), \"html.parser\")\n",
    "    \n",
    "    title_element = soup2.find(attrs={'class':'h3'})\n",
    "\n",
    "    title = title_element.text.strip()\n",
    "\n",
    "    price_element = soup2.find(attrs={'class':'bold'})\n",
    "\n",
    "    price = price_element.text.strip()\n",
    "\n",
    "    today = datetime.date.today()\n",
    "\n",
    "    details_element = soup2.find(attrs={'class':'c-small-font c-margin-bottom-2v description'})\n",
    "\n",
    "    details = details_element.text.strip()\n",
    "\n",
    "    rating_element = soup2.find(attrs={'class':'margin-left-xxs'})\n",
    "    rating = rating_element.text.strip()\n",
    "    rating = rating.replace('(', '')\n",
    "    rating = rating.replace(')', '')\n",
    "    rating = rating.replace('744', '')\n",
    "\n",
    "    review_element = soup2.find(attrs={'class':'link-sm c-small-font'})\n",
    "    total_review = review_element.text.strip()\n",
    "\n",
    "    positive_review_element = soup2.find(attrs={'class':'show-for-sr'})\n",
    "    Positive_review = positive_review_element.text.strip()\n",
    "\n",
    "    image_element = soup2.find(attrs={'class':'alt-images-exposed'})\n",
    "    image = image_element['src']\n",
    "\n",
    "    header = ['Title', 'Price', 'Date', 'Details', 'Rating', 'Total Review', 'Positive Review', 'Image']\n",
    "    data = [title, price, today, details, rating, total_review, Positive_review, image ]\n",
    "\n",
    "    with open('MacyWebScraperDataset.csv', 'a+', newline='', encoding='UTF8') as f:\n",
    "       writer = csv.writer(f)\n",
    "       writer.writerow(data)"
   ]
  },
  {
   "cell_type": "code",
   "execution_count": 135,
   "metadata": {},
   "outputs": [],
   "source": [
    "# Run check_price daily to input the data into the csv file\n",
    "while(True):\n",
    "    check_price()\n",
    "    time.sleep(86400)"
   ]
  }
 ],
 "metadata": {
  "kernelspec": {
   "display_name": "base",
   "language": "python",
   "name": "python3"
  },
  "language_info": {
   "codemirror_mode": {
    "name": "ipython",
    "version": 3
   },
   "file_extension": ".py",
   "mimetype": "text/x-python",
   "name": "python",
   "nbconvert_exporter": "python",
   "pygments_lexer": "ipython3",
   "version": "3.12.1"
  }
 },
 "nbformat": 4,
 "nbformat_minor": 2
}
